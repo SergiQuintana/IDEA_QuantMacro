{
 "cells": [
  {
   "cell_type": "markdown",
   "metadata": {},
   "source": [
    "# General Equilibrium.\n",
    "\n",
    "Under a General Equilibrium model we also have to allow the model to determine the interest rate and the wage in equilibrium.\n",
    "From the problem of the firms we know that: \n",
    "$$\n",
    "F_{l}'(k,l) = w = (1-\\alpha) K ^{\\alpha}\n",
    "$$\n",
    "\n",
    "$$\n",
    "F_{k}'(k,l) = r = \\alpha K ^{\\alpha-1} -\\delta\n",
    "$$\n",
    "\n",
    "Where the last equality holds under Cobb-Douglass production function.  So now we can rewritte as :\n",
    "\n",
    "$$\n",
    "K = \\left(\\frac{r+\\delta}{\\alpha}\\right)^{\\frac{1}{\\alpha-1}} \n",
    "$$\n",
    "\n",
    "To calibrate the model I will follow Ayagari. Therefore $\\alpha=0.36$ and $\\delta=0.08$. \n",
    "\n",
    "My strategy here is to first compute the graph of supply vs demand of capital for a given interest rate, and then using the interestion between those two graphs compute the stationary recursive equilibrium. \n",
    "\n",
    "So let's start by defining all the funcitons that will be used and establishing the parameters of the model:"
   ]
  },
  {
   "cell_type": "markdown",
   "metadata": {},
   "source": [
    "## Functions: \n",
    "\n"
   ]
  },
  {
   "cell_type": "code",
   "execution_count": 2,
   "metadata": {},
   "outputs": [],
   "source": [
    "# Import Packages\n",
    "import numpy as np\n",
    "import matplotlib.pyplot as plt\n",
    "import quantecon as qe\n",
    "\n",
    "rho=0.06\n",
    "sigma=2\n",
    "c_bar=100\n",
    "gamma=0.3\n",
    "sigma_y=0.4\n",
    "y=1.2\n",
    "beta=1/(1+rho)\n",
    "Y1 = np.array([y-sigma_y, y+sigma_y])\n",
    "PI1 = [[(1+gamma)/2, (1-gamma)/2], [(1-gamma)/2, (1+gamma)/2]]\n",
    "n=100\n",
    "epsilon=0.05\n",
    "Amax=20\n",
    "omega = -111111111111111\n",
    "alpha = 0.33                # Following Ayagari\n",
    "delta=0.08                  # Following Ayagari\n",
    "\n",
    "\n",
    "#Amin = round(-min(Y1)*((1+r)/r))+3\n",
    "Amin = 0\n",
    "\n",
    "grid = np.linspace(Amin,Amax,n)\n",
    "\n",
    "def find_values(g):\n",
    "    \n",
    "    ''' This function returns the value of capital and the wage for a given\n",
    "    interest rate, using the FOC of the firms.'''\n",
    "    \n",
    "    k = ((g+delta)/alpha)**(1/(alpha-1))\n",
    "    \n",
    "    w = (1-alpha) * k**(alpha)\n",
    "    \n",
    "    return k,w\n",
    "\n",
    "\n",
    "def utility (a0,a1,w,y,r):\n",
    "    \n",
    "    ''' This function retunrs the utility under CRRA preferences'''\n",
    "    \n",
    "    c = w*y+a0*(1+r)-a1\n",
    "   \n",
    "    if c>=0: \n",
    "        \n",
    "        u = (((c)**(1-sigma)-1)/(1-sigma))\n",
    "            \n",
    "    else:\n",
    "        u=omega\n",
    "    return u\n",
    "\n",
    "\n",
    "def feasible(a0,y,w,r):\n",
    "    \"Returns the maximum feasible k_j given k_i with the form : f(k_i)+(1-δ)k_i\"\n",
    "    # Inputs:\n",
    "        #--> Capital today:    k1\n",
    "    f = w*y+(1+r)*a0\n",
    "    return f\n",
    "\n",
    "\n",
    "def VFI_Uncertainty(M,epsilon):\n",
    "    \"This function returns the solution for the Bellman equation using Value Function Iteration algorithim and counts the number of iterations \"\n",
    "    # Inputs:\n",
    "        # --> M (Initial value)\n",
    "        # --> V (Initial guess)\n",
    "        # --> epsilon (tolerance)    \n",
    "    # Output:\n",
    "        # --> Returns fixed point value function.\n",
    "       \n",
    "    X = np.zeros(shape=(n*len(Y1),n))\n",
    "            \n",
    "    V= np.zeros(shape=(1,n*len(Y1)))\n",
    "            \n",
    "    Vnew = np.zeros(shape=(1,n*len(Y1)))\n",
    "    \n",
    "    g = np.zeros(shape=(1,n*len(Y1)))      # Array for optimal decision rule\n",
    "\n",
    "            \n",
    "    W = np.zeros(shape=(1,n*len(Y1)))\n",
    "            \n",
    "    # Get the max of all the possible X[j] = M + betaV given j, assuming the initial guess is V=0:\n",
    "            \n",
    "    for i in range(n*len(Y1)):\n",
    "        Vnew[0][i] = np.amax(M[i][:])\n",
    "        g[0][i] = np.argmax(X[i][:])        # The optimal decision rule\n",
    "                \n",
    "        # Generate the new value function and repeat the process until tolerance is satisfied:   \n",
    "            \n",
    "                \n",
    "    while np.any(abs(V-Vnew)>=epsilon):\n",
    "        V = Vnew.copy()\n",
    "        for i in range(n*len(Y1)):\n",
    "            if i<=n-1:\n",
    "                Z = np.array([Vnew[0][i] , Vnew[0][i+n]])\n",
    "                        \n",
    "                W[0][i] = np.inner(PI1[0] , Z)\n",
    "                        \n",
    "            else: \n",
    "                Z = np.array([Vnew[0][i-n] , Vnew[0][i]])\n",
    "                        \n",
    "                W[0][i] = np.inner(PI1[1] , Z)     \n",
    "         \n",
    "        for x in range(len(Y1)):\n",
    "            for i in range(n):\n",
    "                for j in range(n):\n",
    "                    X[i+n*x][j] = M[i+n*x][j] + beta*W[0][j+n*x]\n",
    "                \n",
    "        for i in range(n*len(Y1)):\n",
    "            Vnew[0][i] = np.amax(X[i][:])\n",
    "            g[0][i] = np.argmax(X[i][:])      \n",
    "            \n",
    "                           \n",
    "    return V , g\n",
    "\n",
    "\n",
    "\n",
    "\n",
    "def gen_M(Y1,w,r):\n",
    "    \n",
    "    '''This function generates the matrix M with all the feasible\n",
    "    utiilty levels given combinations of assets'''\n",
    "    \n",
    "    M = np.zeros(shape=(n*len(Y1),n))\n",
    "            \n",
    "    for x in range(len(Y1)):\n",
    "        for i in range(n):\n",
    "            for j in range(n):\n",
    "                if feasible(grid[i],Y1[x],w,r) >= grid[j]: \n",
    "                    M[i+n*x][j] = utility(grid[i],grid[j],w,Y1[x],r) # Gives the element ij of matrix M\n",
    "                else: \n",
    "                    M[i+n*x][j] = omega\n",
    "    return M\n",
    "\n",
    "\n",
    "def find_nearest(array, value):\n",
    "    \n",
    "    '''This function takes the nearest feasible value in a grid. Takes as a input a value\n",
    "    that might not be in the grid, and returns the nearest value in that grid.'''\n",
    "    \n",
    "    array = np.asarray(array)\n",
    "    idx = (np.abs(array - value)).argmin()\n",
    "    return array[idx]\n",
    "\n",
    "   \n",
    "# Find the invariant distribution of assets: \n",
    "  \n",
    "def assets_path_random_new(grid,policy,initial_assets,T,Y,PI):\n",
    "    \n",
    "    ''' This function returns the level of assets for an individual after T periods\n",
    "    facing income shocks every period according to the transition matrix PI.'''\n",
    "    \n",
    "    \n",
    "    PolicyBad = policy[0][0:n]\n",
    "    PolicyGood = policy[0][n:]\n",
    "    \n",
    "    g = find_nearest(grid,initial_assets)\n",
    "    \n",
    "    a = np.random.binomial(1,1/2)\n",
    "\n",
    "    for i in range(T):\n",
    "        \n",
    "        if i ==0:\n",
    "            \n",
    "            c = np.where(grid == g)\n",
    "            \n",
    "        if i>0:\n",
    "        \n",
    "            if a==1: \n",
    "                \n",
    "                c = np.int(PolicyGood[c])\n",
    "        \n",
    "                a = np.random.binomial(1,PI[1][1])\n",
    "                \n",
    "                                \n",
    "            if a==0:\n",
    "                \n",
    "                c = np.int(PolicyBad[c])\n",
    "        \n",
    "                a = np.random.binomial(1,PI[0][1])\n",
    "   \n",
    "    lastasset = grid[c]\n",
    "        \n",
    "    \n",
    "    return lastasset\n",
    "    \n",
    "\n",
    "\n",
    "def find_stationary_new(policy,Y,PI,periods,individuals,grid,initial_assets):\n",
    "    \n",
    "    ''' This funciton simulates the stationary distribution of agents by \n",
    "    generating the desired amount of individuals and then itereate over a big enough\n",
    "    amount of periods to make sure the distribution is stationary'''\n",
    "    \n",
    "    rand_ass = np.zeros(shape=(individuals,periods))\n",
    "    \n",
    "    \n",
    "    for i in range(individuals):\n",
    "        \n",
    "    \n",
    "        assets =  assets_path_random_new(grid,policy,initial_assets,periods,Y,PI)\n",
    "    \n",
    "        rand_ass[i][:]  = assets\n",
    "    \n",
    "    stati = rand_ass[:,-1]\n",
    "    \n",
    "    return stati\n",
    "\n",
    "   \n",
    "    \n",
    "def frequency(x):\n",
    "    \n",
    "    ''' This function computes the frequency of each value of the stationary \n",
    "    distribution. This is a key step to later compute the total amount of assets'''\n",
    "    \n",
    "    output = []\n",
    "    for i in x:\n",
    "        if i not in output:\n",
    "            output.append(i)\n",
    "            \n",
    "    frec = np.zeros(shape=(len(output),2))\n",
    "    \n",
    "    a=0\n",
    "    \n",
    "    for i in output:\n",
    "        \n",
    "        c = find_nearest(grid, i)\n",
    "        \n",
    "        frec[a][0] = np.count_nonzero(x==c)/len(x)\n",
    "        frec[a][1] = i\n",
    "        \n",
    "        a+=1\n",
    "    \n",
    "    return frec\n",
    "\n",
    "\n",
    "\n",
    "def Ea(sta,policy):\n",
    "    \n",
    "    '''This function computes the supply of demand for a given\n",
    "    level of interest rate'''\n",
    "    \n",
    "    PolicyBad = policy[0][0:n]\n",
    "    PolicyGood = policy[0][n:]\n",
    "    \n",
    "    val = sta[:,1]\n",
    "    freq = sta[:,0]\n",
    "    \n",
    "    E = np.zeros(len(val))\n",
    "    \n",
    "    for i in range(len(val)):\n",
    "        \n",
    "        E[i] = val[i] * freq[i]\n",
    "        \n",
    "    Ea = sum(E)\n",
    "    \n",
    "    return Ea\n",
    "\n",
    "       \n",
    "        \n",
    "    \n",
    "\n",
    "def solve():\n",
    "    \n",
    "    '''This function iterates all the economy for different values of \n",
    "    interest rates to find the path of supply of assets.'''\n",
    "    \n",
    "    grid_r = np.linspace(-delta+0.01,rho,20)\n",
    "       \n",
    "    Ea_path = np.zeros(len(grid_r))\n",
    "    \n",
    "    for i in range(len(grid_r)):\n",
    "        \n",
    "        r = grid_r[i]\n",
    "        \n",
    "        k,w = find_values(r)\n",
    "        \n",
    "        M = gen_M(Y1,w,r)\n",
    "        \n",
    "        ValueFunction, Policy = VFI_Uncertainty(M,epsilon)\n",
    "        \n",
    "        stationary = find_stationary_new(Policy,Y1,PI1,2000,2000,grid,3)\n",
    "        \n",
    "        values = frequency(stationary)\n",
    "        \n",
    "        EAss = Ea(values,Policy)\n",
    "               \n",
    "        Ea_path[i] = EAss\n",
    "        \n",
    "    return Ea_path\n",
    "\n",
    "def capital_to_r(sup):\n",
    "    \n",
    "    '''This funciton returs the interest rate associated to a given\n",
    "    demand of assets using the FOC of the firms.'''\n",
    "    \n",
    "    dem = alpha*sup**(alpha-1)-delta\n",
    "    \n",
    "    return dem\n",
    "\n"
   ]
  },
  {
   "cell_type": "markdown",
   "metadata": {},
   "source": [
    "## Strategy: \n",
    "\n",
    "Once I have defined all the funcitons I can describe what is my strategy to compute the demand and supply of capital. To do so I will rigurosly follow the steps described in the PS. This process is just giving words to what my function $\\textbf{solve()}$ is doing. \n",
    "\n",
    "1. Generate a grid to determine the values of the interest rate to evaluate. \n",
    "\n",
    "2. Find its associated wage and capital level using the focs of the firm. \n",
    "\n",
    "3. Since now we know the wage, we can solve for the value function and policy function of the Household. \n",
    "\n",
    "4. With the policy function of the agent I will simulate 2000 agents facing income shocks over 2000 periods using the transition probability PI to see what is the stationary distibution of the economy. \n",
    "\n",
    "5. With the statinoary distribution of assets compute the supply of assets.\n",
    "\n",
    "6. Repeat this process over the full grid of interest rates. \n",
    "\n",
    "7. Once I have the suppply of assets for each interest rate, I can compute the interest rate if this supply was demand using the FOC of the firm. With this I will get the demand of capital for some interest rates. \n",
    "\n",
    "8. Do the plot ! \n",
    "\n",
    "## Results:"
   ]
  },
  {
   "cell_type": "code",
   "execution_count": 3,
   "metadata": {
    "scrolled": false
   },
   "outputs": [
    {
     "name": "stdout",
     "output_type": "stream",
     "text": [
      "TOC: Elapsed: 0:15:31.62\n"
     ]
    },
    {
     "data": {
      "text/plain": [
       "931.6231780052185"
      ]
     },
     "execution_count": 3,
     "metadata": {},
     "output_type": "execute_result"
    }
   ],
   "source": [
    "qe.tic()   \n",
    "eapath = solve()\n",
    "qe.toc()  \n",
    " "
   ]
  },
  {
   "cell_type": "code",
   "execution_count": 4,
   "metadata": {},
   "outputs": [
    {
     "data": {
      "text/plain": [
       "<matplotlib.legend.Legend at 0x27502692d00>"
      ]
     },
     "execution_count": 4,
     "metadata": {},
     "output_type": "execute_result"
    },
    {
     "data": {
      "image/png": "[encoded data removed]",
      "text/plain": [
       "<Figure size 432x288 with 1 Axes>"
      ]
     },
     "metadata": {
      "needs_background": "light"
     },
     "output_type": "display_data"
    },
    {
     "data": {
      "image/png": "[encoded data removed]",
      "text/plain": [
       "<Figure size 432x288 with 1 Axes>"
      ]
     },
     "metadata": {
      "needs_background": "light"
     },
     "output_type": "display_data"
    }
   ],
   "source": [
    "#  Plot the results:\n",
    "\n",
    "r_space = np.linspace(-delta+0.01,rho,20)\n",
    "\n",
    "demand = capital_to_r(eapath)\n",
    "\n",
    "fig, ax = plt.subplots()\n",
    "ax.plot(eapath,r_space,label='Supply of Capital')\n",
    "ax.plot(eapath,demand,label='Demand of Capital')\n",
    "ax.plot(eapath,rho*np.ones(20),'--',label='rho')\n",
    "ax.plot(eapath,-delta*np.ones(20),'--',label='- $\\delta$')\n",
    "plt.ylabel('Interest Rate')\n",
    "plt.xlabel('Capital')\n",
    "plt.title('Supply and Demand of capital')\n",
    "plt.legend() \n",
    "\n",
    "fig, ax = plt.subplots()\n",
    "ax.plot(eapath,r_space,label='Supply of Capital')\n",
    "ax.plot(eapath,demand,label='Demand of Capital')\n",
    "ax.plot(eapath,rho*np.ones(20),'--',label='rho')\n",
    "ax.plot(eapath,-delta*np.ones(20),'--',label='- $\\delta$')\n",
    "ax.set(xlim=(0.5, 5), ylim=(0.02, 0.1))\n",
    "plt.ylabel('Interest Rate')\n",
    "plt.xlabel('Capital')\n",
    "plt.title('Supply and Demand of capital with zoom')\n",
    "plt.legend() \n"
   ]
  },
  {
   "cell_type": "markdown",
   "metadata": {},
   "source": [
    "### Results: \n",
    "\n",
    "As we can see this is the desired result. I have found a graph very closed to that of Ayagari (1994) that shows how capital demand is decrasing in the interest rate and capital supply is increasing in the interest rate. The intention now is to find the point at which supply and demand interesect to get the stationary recursive equilibrium. \n",
    "\n",
    "Notice that the most important here is to clear the assets market. This is because labor is supplied inelastically so the market for labor will always clear and by Walra's law whe know that if we have n markets and n-1 clear, then the remaining will also clear. Therefore, if clear the assets market, since the labor market is always claered, we will also clear the goods market.  So let's now focus on clearing the assets market. "
   ]
  },
  {
   "cell_type": "markdown",
   "metadata": {},
   "source": [
    "### Strategy to solve the optimal interest rate. \n",
    "\n",
    "Since my code is a bit slow, around 30 seconds per iteration, I need to do the less iterations as possible. For this reason I will redefine my grid around the interest rates that where minimizing the distance in the previous graph. Then I will see what new interest rate gives the minimum difference in demand and supply. If this difference is acceptable I will consider this interest rate the good one. Otherwise I will redefine my grid around that point. "
   ]
  },
  {
   "cell_type": "code",
   "execution_count": 5,
   "metadata": {},
   "outputs": [],
   "source": [
    "# Now I need to find the value at which supply and demand cross. This will be the recursive stationary competitive \n",
    "# equilibrium since all the markets will clear there. \n",
    "\n",
    "\n",
    "# I will now compute the value of the interest rate that is minimizing those two curves. \n",
    "\n",
    "z1 = [abs(demand-r_space)]\n",
    "\n",
    "a = np.argmin(z1)\n",
    "\n",
    "r_demand = demand[a]\n",
    "r_supply = r_space[a]\n",
    "\n"
   ]
  },
  {
   "cell_type": "code",
   "execution_count": 8,
   "metadata": {},
   "outputs": [],
   "source": [
    "def solve(grid_r):\n",
    "    \n",
    "    '''This function iterates all the economy for different values of \n",
    "    interest rates to find the path of supply of assets.'''\n",
    "       \n",
    "    Ea_path = np.zeros(len(grid_r))\n",
    "    \n",
    "    for i in range(len(grid_r)):\n",
    "        \n",
    "        r = grid_r[i]\n",
    "        \n",
    "        k,w = find_values(r)\n",
    "        \n",
    "        M = gen_M(Y1,w,r)\n",
    "        \n",
    "        ValueFunction, Policy = VFI_Uncertainty(M,epsilon)\n",
    "        \n",
    "        stationary = find_stationary_new(Policy,Y1,PI1,2000,2000,grid,3)\n",
    "        \n",
    "        values = frequency(stationary)\n",
    "        \n",
    "        EAss = Ea(values,Policy)\n",
    "               \n",
    "        Ea_path[i] = EAss\n",
    "        \n",
    "    return Ea_path\n",
    "\n",
    "def find(w1,w2,epsilon):\n",
    "    \n",
    "    supply=1\n",
    "    demand=0\n",
    "    \n",
    "    k_demand = np.zeros(20)\n",
    "    \n",
    "    r1=w1\n",
    "    r2=w2\n",
    "    \n",
    "    while abs(supply-demand)>epsilon:\n",
    "        r_val = np.linspace(r1,r2,20)\n",
    "        k_supply = solve(r_val)\n",
    "        for i in range(len(k_supply)):\n",
    "            k_demand[i] = find_values(r_val[i])[0]\n",
    "        \n",
    "        a = np.argmin(abs(k_demand-k_supply))\n",
    "        \n",
    "        r = r_val[a]\n",
    "        \n",
    "        demand = k_demand[a]\n",
    "        supply = k_supply[a]\n",
    "        \n",
    "        if a <=3:\n",
    "            \n",
    "            r1 = r_val[0]-0.03\n",
    "            r2 = r_val[5]\n",
    "        if a>=17:\n",
    "            \n",
    "            r1= r_val[13]\n",
    "            r2=r_val[19]+0.03\n",
    "        else:\n",
    "            r1=r_val[a-3]\n",
    "            r2=r_val[a+3]\n",
    "        \n",
    "    return r\n"
   ]
  },
  {
   "cell_type": "code",
   "execution_count": 10,
   "metadata": {},
   "outputs": [],
   "source": [
    "r_min = find(r_demand,r_supply,0.2)   # I put a high tolerance to wait less, code runs slowly."
   ]
  },
  {
   "cell_type": "code",
   "execution_count": 23,
   "metadata": {},
   "outputs": [
    {
     "name": "stdout",
     "output_type": "stream",
     "text": [
      "0.055380851756161316\n"
     ]
    }
   ],
   "source": [
    "print(r_min)"
   ]
  },
  {
   "cell_type": "code",
   "execution_count": 11,
   "metadata": {},
   "outputs": [
    {
     "data": {
      "text/plain": [
       "(array([ 73.,  43., 139.,  40.,  61.,  88.,  40.,  64.,  82.,  40.,  53.,\n",
       "         87.,  37.,  62.,  91.,  43.,  62., 102.,  60.,  45.,  95.,  63.,\n",
       "        101.,  49.,  57., 123.,  49.,  23.,  56.,  14.,   9.,  22.,  10.,\n",
       "          5.,   3.,   1.,   2.,   2.,   2.,   2.]),\n",
       " array([ 0.        ,  0.27272727,  0.54545455,  0.81818182,  1.09090909,\n",
       "         1.36363636,  1.63636364,  1.90909091,  2.18181818,  2.45454545,\n",
       "         2.72727273,  3.        ,  3.27272727,  3.54545455,  3.81818182,\n",
       "         4.09090909,  4.36363636,  4.63636364,  4.90909091,  5.18181818,\n",
       "         5.45454545,  5.72727273,  6.        ,  6.27272727,  6.54545455,\n",
       "         6.81818182,  7.09090909,  7.36363636,  7.63636364,  7.90909091,\n",
       "         8.18181818,  8.45454545,  8.72727273,  9.        ,  9.27272727,\n",
       "         9.54545455,  9.81818182, 10.09090909, 10.36363636, 10.63636364,\n",
       "        10.90909091]),\n",
       " <a list of 40 Patch objects>)"
      ]
     },
     "execution_count": 11,
     "metadata": {},
     "output_type": "execute_result"
    },
    {
     "data": {
      "image/png": "[encoded data removed]",
      "text/plain": [
       "<Figure size 432x288 with 1 Axes>"
      ]
     },
     "metadata": {
      "needs_background": "light"
     },
     "output_type": "display_data"
    }
   ],
   "source": [
    "# Compute the histogram of the stationary distribution:\n",
    "\n",
    "k,w = find_values(r_min)\n",
    "        \n",
    "M = gen_M(Y1,w,r_min)\n",
    "        \n",
    "ValueFunction, Policy = VFI_Uncertainty(M,epsilon)\n",
    "        \n",
    "stationary = find_stationary_new(Policy,Y1,PI1,2000,2000,grid,3)\n",
    "        \n",
    "values = frequency(stationary)\n",
    "        \n",
    "ksupplied = Ea(values,Policy)\n",
    "\n",
    "plt.hist(stationary,bins=40)         \n",
    "\n",
    "\n"
   ]
  },
  {
   "cell_type": "code",
   "execution_count": 12,
   "metadata": {},
   "outputs": [
    {
     "data": {
      "text/plain": [
       "Text(0, 0.5, 'Frequency')"
      ]
     },
     "execution_count": 12,
     "metadata": {},
     "output_type": "execute_result"
    },
    {
     "data": {
      "image/png": "[encoded data removed]",
      "text/plain": [
       "<Figure size 432x288 with 1 Axes>"
      ]
     },
     "metadata": {
      "needs_background": "light"
     },
     "output_type": "display_data"
    }
   ],
   "source": [
    "plt.hist(stationary,bins=40)         \n",
    "plt.xlabel('Assets')\n",
    "plt.ylabel('Frequency')"
   ]
  },
  {
   "cell_type": "markdown",
   "metadata": {},
   "source": [
    "### Compute Stats To Measure Inequality"
   ]
  },
  {
   "cell_type": "code",
   "execution_count": 22,
   "metadata": {},
   "outputs": [
    {
     "name": "stdout",
     "output_type": "stream",
     "text": [
      "The top 1% has 2.37% of wealth of the economy\n",
      "The top 10% has 19.54% of wealth of the economy\n",
      "The bottom 50% has 24.59% of wealth of the economy\n",
      "Q1 3.69% of wealth of the economy\n",
      "Q2 11.78% of wealth of the economy\n",
      "Q3 20.26% of wealth of the economy\n",
      "Q4 27.96% of wealth of the economy\n",
      "Q5 36.31% of wealth of the economy\n"
     ]
    }
   ],
   "source": [
    " # Generate a function that will compute the share of assets owned by each percentile. \n",
    "from tabulate import tabulate\n",
    "\n",
    "def percentile(values,percent,top):\n",
    "    \n",
    "    '''This function takes as inputs the percentile to be computed and the stationary distribution\n",
    "    of assets and returns the share of assets owned by this percentile'''\n",
    "    \n",
    "    ordered = sorted(values)                 # Order the assets owned in the economy\n",
    "    \n",
    "    \n",
    "    if top==False:\n",
    "        \n",
    "        x = np.int(len(values)*(percent/100))    # The interval [0,x] is the agents that belong to percent.\n",
    "        \n",
    "        share = sum(ordered[:x])/sum(ordered)\n",
    "    \n",
    "    else: \n",
    "       \n",
    "        x = np.int(len(values)*(1-(percent)/100))    # The interval [0,x] is the agents that belong to percent.\n",
    "        \n",
    "        share = sum(ordered[x:])/sum(ordered)\n",
    "           \n",
    "    return share\n",
    "\n",
    "top1 =  percentile(stationary,1,top=True)\n",
    "top10 =  percentile(stationary,10,top=True)\n",
    "bottom50 =  percentile(stationary,50,top=False)\n",
    "\n",
    "print('The top 1% has '+str(round(top1*100,2))+'% of wealth of the economy')\n",
    "print('The top 10% has '+str(round(top10*100,2))+'% of wealth of the economy')\n",
    "print('The bottom 50% has '+str(round(bottom50*100,2))+'% of wealth of the economy')\n",
    "\n",
    "# To replicate the Table 1 of the Chapter 11: \n",
    "\n",
    "Q1 = percentile(stationary,20,top=False)\n",
    "Q2 = percentile(stationary,40,top=False) - percentile(stationary,20,top=False)\n",
    "Q3 = percentile(stationary,60,top=False) - percentile(stationary,40,top=False)\n",
    "Q4 = percentile(stationary,80,top=False) - percentile(stationary,60,top=False)\n",
    "Q5 = percentile(stationary,20,top=True)\n",
    "\n",
    "print('Q1 '+str(round(Q1*100,2))+'% of wealth of the economy')\n",
    "print('Q2 '+str(round(Q2*100,2))+'% of wealth of the economy')\n",
    "print('Q3 '+str(round(Q3*100,2))+'% of wealth of the economy')\n",
    "print('Q4 '+str(round(Q4*100,2))+'% of wealth of the economy')\n",
    "print('Q5 '+str(round(Q5*100,2))+'% of wealth of the economy')\n",
    "\n"
   ]
  },
  {
   "cell_type": "markdown",
   "metadata": {},
   "source": []
  },
  {
   "cell_type": "markdown",
   "metadata": {},
   "source": [
    "# Copmute the distribution T periods after Covid Shock, Starting from the statinoary distribution. \n",
    "\n"
   ]
  },
  {
   "cell_type": "code",
   "execution_count": 14,
   "metadata": {},
   "outputs": [],
   "source": [
    "def assets_path_random_new_covid(grid,policy,initial_assets,T,Y,PI,period_shock,phigh_low,phigh_high):\n",
    "    \n",
    "    ''' This function returns the level of assets for an individual after T periods\n",
    "    facing income shocks every period according to the transition matrix PI.'''\n",
    "    \n",
    "    \n",
    "    PolicyBad = policy[0][0:n]\n",
    "    PolicyGood = policy[0][n:]\n",
    "    \n",
    "    g = find_nearest(grid,initial_assets)\n",
    "    \n",
    "    a = np.random.binomial(1,8/10)\n",
    "\n",
    "    for i in range(T):\n",
    "        \n",
    "        if i ==0:\n",
    "            \n",
    "            c = np.where(grid == g)\n",
    "            \n",
    "        if i == period_shock:\n",
    "            \n",
    "            if a==1: \n",
    "                \n",
    "                c = np.int(PolicyGood[c])\n",
    "        \n",
    "                a = np.random.binomial(1,phigh_high)\n",
    "                \n",
    "                                \n",
    "            if a==0:\n",
    "                \n",
    "                c = np.int(PolicyBad[c])\n",
    "        \n",
    "                a = np.random.binomial(1,phigh_low)\n",
    "            \n",
    "            \n",
    "        \n",
    "        else:\n",
    "        \n",
    "            if a==1: \n",
    "                \n",
    "                c = np.int(PolicyGood[c])\n",
    "        \n",
    "                a = np.random.binomial(1,PI[1][1])\n",
    "                \n",
    "                                \n",
    "            if a==0:\n",
    "                \n",
    "                c = np.int(PolicyBad[c])\n",
    "        \n",
    "                a = np.random.binomial(1,PI[0][1])\n",
    "   \n",
    "    lastasset = grid[c]\n",
    "        \n",
    "    \n",
    "    return lastasset\n",
    "    \n",
    "\n",
    "\n",
    "def find_stationary_new_covid(policy,Y,PI,periods,individuals,grid,initial_assets,period_shock,phigh_high,phigh_low):\n",
    "    \n",
    "    ''' This funciton simulates the stationary distribution of agents by \n",
    "    generating the desired amount of individuals and then itereate over a big enough\n",
    "    amount of periods to make sure the distribution is stationary'''\n",
    "    \n",
    "    rand_ass = np.zeros(shape=(individuals,periods))\n",
    "    \n",
    "    \n",
    "    for i in range(individuals):\n",
    "        \n",
    "    \n",
    "        assets =  assets_path_random_new_covid(grid,policy,initial_assets,periods,Y,PI,period_shock,phigh_high,phigh_low)\n",
    "    \n",
    "        rand_ass[i][:]  = assets\n",
    "    \n",
    "    stati = rand_ass[:,-1]\n",
    "    \n",
    "    return stati"
   ]
  },
  {
   "cell_type": "code",
   "execution_count": 15,
   "metadata": {},
   "outputs": [],
   "source": [
    "# Compute the stationary distribution\n",
    "\n",
    "stationary_covid = find_stationary_new_covid(Policy,Y1,PI1,2000,2000,grid,3,1998,0,0)   # In the last period everybody gets low productivity\n"
   ]
  },
  {
   "cell_type": "code",
   "execution_count": 16,
   "metadata": {},
   "outputs": [
    {
     "data": {
      "text/plain": [
       "Text(0, 0.5, 'Frequency')"
      ]
     },
     "execution_count": 16,
     "metadata": {},
     "output_type": "execute_result"
    },
    {
     "data": {
      "image/png": "[encoded data removed]",
      "text/plain": [
       "<Figure size 432x288 with 1 Axes>"
      ]
     },
     "metadata": {
      "needs_background": "light"
     },
     "output_type": "display_data"
    }
   ],
   "source": [
    "# Plot the distribution:\n",
    "\n",
    "plt.hist(stationary_covid,bins=40)\n",
    "plt.xlabel('Assets')\n",
    "plt.ylabel('Frequency')\n"
   ]
  },
  {
   "cell_type": "code",
   "execution_count": 17,
   "metadata": {},
   "outputs": [
    {
     "name": "stdout",
     "output_type": "stream",
     "text": [
      "The top 1% has 2.63% of wealth of the economy\n",
      "The top 10% has 21.08% of wealth of the economy\n",
      "The bottom 50% has 21.05% of wealth of the economy\n",
      "Q1 2.56% of wealth of the economy\n",
      "Q2 9.92% of wealth of the economy\n",
      "Q3 19.5% of wealth of the economy\n",
      "Q4 28.88% of wealth of the economy\n",
      "Q5 39.15% of wealth of the economy\n"
     ]
    }
   ],
   "source": [
    "# Compute the statistics:\n",
    "\n",
    "top1_covid =  percentile(stationary_covid,1,top=True)\n",
    "top10_covid=  percentile(stationary_covid,10,top=True)\n",
    "bottom50_covid =  percentile(stationary_covid,50,top=False)\n",
    "\n",
    "print('The top 1% has '+str(round(top1_covid*100,2))+'% of wealth of the economy')\n",
    "print('The top 10% has '+str(round(top10_covid*100,2))+'% of wealth of the economy')\n",
    "print('The bottom 50% has '+str(round(bottom50_covid*100,2))+'% of wealth of the economy')\n",
    " \n",
    "\n",
    "Q1_covid = percentile(stationary_covid,20,top=False)\n",
    "Q2_covid = percentile(stationary_covid,40,top=False) - percentile(stationary_covid,20,top=False)\n",
    "Q3_covid = percentile(stationary_covid,60,top=False) - percentile(stationary_covid,40,top=False)\n",
    "Q4_covid = percentile(stationary_covid,80,top=False) - percentile(stationary_covid,60,top=False)\n",
    "Q5_covid = percentile(stationary_covid,20,top=True)\n",
    "\n",
    "print('Q1 '+str(round(Q1_covid*100,2))+'% of wealth of the economy')\n",
    "print('Q2 '+str(round(Q2_covid*100,2))+'% of wealth of the economy')\n",
    "print('Q3 '+str(round(Q3_covid*100,2))+'% of wealth of the economy')\n",
    "print('Q4 '+str(round(Q4_covid*100,2))+'% of wealth of the economy')\n",
    "print('Q5 '+str(round(Q5_covid*100,2))+'% of wealth of the economy')"
   ]
  },
  {
   "cell_type": "markdown",
   "metadata": {},
   "source": [
    "# Suppose now Covid Lasts More Periods.\n"
   ]
  },
  {
   "cell_type": "code",
   "execution_count": 18,
   "metadata": {},
   "outputs": [],
   "source": [
    "def assets_path_random_longcovid(grid,policy,initial_assets,T,Y,PI,period_shock,phigh_low,phigh_high):\n",
    "    \n",
    "    ''' This function returns the level of assets for an individual after T periods\n",
    "    facing income shocks every period according to the transition matrix PI.'''\n",
    "    \n",
    "    \n",
    "    PolicyBad = policy[0][0:n]\n",
    "    PolicyGood = policy[0][n:]\n",
    "    \n",
    "    g = find_nearest(grid,initial_assets)\n",
    "    \n",
    "    a = np.random.binomial(1,8/10)\n",
    "\n",
    "    for i in range(T):\n",
    "        \n",
    "        if i ==0:\n",
    "            \n",
    "            c = np.where(grid == g)\n",
    "            \n",
    "        if i == period_shock:\n",
    "            \n",
    "            if a==1: \n",
    "                \n",
    "                c = np.int(PolicyGood[c])\n",
    "        \n",
    "                a = np.random.binomial(1,phigh_high)\n",
    "                \n",
    "                                \n",
    "            if a==0:\n",
    "                \n",
    "                c = np.int(PolicyBad[c])\n",
    "        \n",
    "                a = np.random.binomial(1,phigh_low)\n",
    "        \n",
    "        if i == period_shock+1:\n",
    "            \n",
    "            if a==1: \n",
    "                \n",
    "                c = np.int(PolicyGood[c])\n",
    "        \n",
    "                a = np.random.binomial(1,phigh_high)\n",
    "                \n",
    "                                \n",
    "            if a==0:\n",
    "                \n",
    "                c = np.int(PolicyBad[c])\n",
    "        \n",
    "                a = np.random.binomial(1,phigh_low)\n",
    "            \n",
    "        if i == period_shock+2:\n",
    "            \n",
    "            if a==1: \n",
    "                \n",
    "                c = np.int(PolicyGood[c])\n",
    "        \n",
    "                a = np.random.binomial(1,phigh_high)\n",
    "                \n",
    "                                \n",
    "            if a==0:\n",
    "                \n",
    "                c = np.int(PolicyBad[c])\n",
    "        \n",
    "                a = np.random.binomial(1,phigh_low)\n",
    "            \n",
    "            \n",
    "        \n",
    "        else:\n",
    "        \n",
    "            if a==1: \n",
    "                \n",
    "                c = np.int(PolicyGood[c])\n",
    "        \n",
    "                a = np.random.binomial(1,PI[1][1])\n",
    "                \n",
    "                                \n",
    "            if a==0:\n",
    "                \n",
    "                c = np.int(PolicyBad[c])\n",
    "        \n",
    "                a = np.random.binomial(1,PI[0][1])\n",
    "   \n",
    "    lastasset = grid[c]\n",
    "        \n",
    "    \n",
    "    return lastasset\n",
    "    \n",
    "\n",
    "\n",
    "def find_stationary_longcovid(policy,Y,PI,periods,individuals,grid,initial_assets,period_shock,phigh_high,phigh_low):\n",
    "    \n",
    "    ''' This funciton simulates the stationary distribution of agents by \n",
    "    generating the desired amount of individuals and then itereate over a big enough\n",
    "    amount of periods to make sure the distribution is stationary'''\n",
    "    \n",
    "    rand_ass = np.zeros(shape=(individuals,periods))\n",
    "    \n",
    "    \n",
    "    for i in range(individuals):\n",
    "        \n",
    "    \n",
    "        assets =  assets_path_random_new_covid(grid,policy,initial_assets,periods,Y,PI,period_shock,phigh_high,phigh_low)\n",
    "    \n",
    "        rand_ass[i][:]  = assets\n",
    "    \n",
    "    stati = rand_ass[:,-1]\n",
    "    \n",
    "    return stati"
   ]
  },
  {
   "cell_type": "code",
   "execution_count": 19,
   "metadata": {},
   "outputs": [],
   "source": [
    "# Compute the distribution: \n",
    "\n",
    "stationary_longcovid = find_stationary_longcovid(Policy,Y1,PI1,2000,2000,grid,3,1995,0,0)   # In the last period everybody gets low productivity\n",
    "\n"
   ]
  },
  {
   "cell_type": "code",
   "execution_count": 20,
   "metadata": {},
   "outputs": [
    {
     "data": {
      "text/plain": [
       "Text(0, 0.5, 'Frequency')"
      ]
     },
     "execution_count": 20,
     "metadata": {},
     "output_type": "execute_result"
    },
    {
     "data": {
      "image/png": "[encoded data removed]",
      "text/plain": [
       "<Figure size 432x288 with 1 Axes>"
      ]
     },
     "metadata": {
      "needs_background": "light"
     },
     "output_type": "display_data"
    }
   ],
   "source": [
    "# Plot the distribution:\n",
    "\n",
    "plt.hist(stationary_longcovid,bins=40)\n",
    "plt.xlabel('Assets')\n",
    "plt.ylabel('Frequency')"
   ]
  },
  {
   "cell_type": "code",
   "execution_count": 21,
   "metadata": {},
   "outputs": [
    {
     "name": "stdout",
     "output_type": "stream",
     "text": [
      "The top 1% has 2.71% of wealth of the economy\n",
      "The top 10% has 22.17% of wealth of the economy\n",
      "The bottom 50% has 19.8% of wealth of the economy\n",
      "Q1 2.56% of wealth of the economy\n",
      "Q2 9.17% of wealth of the economy\n",
      "Q3 18.79% of wealth of the economy\n",
      "Q4 29.0% of wealth of the economy\n",
      "Q5 40.49% of wealth of the economy\n"
     ]
    }
   ],
   "source": [
    "# Compute the statistics:\n",
    "\n",
    "top1_longcovid =  percentile(stationary_longcovid,1,top=True)\n",
    "top10_longcovid=  percentile(stationary_longcovid,10,top=True)\n",
    "bottom50_longcovid =  percentile(stationary_longcovid,50,top=False)\n",
    "\n",
    "print('The top 1% has '+str(round(top1_longcovid*100,2))+'% of wealth of the economy')\n",
    "print('The top 10% has '+str(round(top10_longcovid*100,2))+'% of wealth of the economy')\n",
    "print('The bottom 50% has '+str(round(bottom50_longcovid*100,2))+'% of wealth of the economy')\n",
    " \n",
    "\n",
    "Q1_longcovid = percentile(stationary_longcovid,20,top=False)\n",
    "Q2_longcovid = percentile(stationary_longcovid,40,top=False) - percentile(stationary_longcovid,20,top=False)\n",
    "Q3_longcovid = percentile(stationary_longcovid,60,top=False) - percentile(stationary_longcovid,40,top=False)\n",
    "Q4_longcovid = percentile(stationary_longcovid,80,top=False) - percentile(stationary_longcovid,60,top=False)\n",
    "Q5_longcovid = percentile(stationary_longcovid,20,top=True)\n",
    "\n",
    "print('Q1 '+str(round(Q1_longcovid*100,2))+'% of wealth of the economy')\n",
    "print('Q2 '+str(round(Q2_longcovid*100,2))+'% of wealth of the economy')\n",
    "print('Q3 '+str(round(Q3_longcovid*100,2))+'% of wealth of the economy')\n",
    "print('Q4 '+str(round(Q4_longcovid*100,2))+'% of wealth of the economy')\n",
    "print('Q5 '+str(round(Q5_longcovid*100,2))+'% of wealth of the economy')"
   ]
  },
  {
   "cell_type": "code",
   "execution_count": null,
   "metadata": {},
   "outputs": [],
   "source": []
  },
  {
   "cell_type": "code",
   "execution_count": null,
   "metadata": {},
   "outputs": [],
   "source": []
  }
 ],
 "metadata": {
  "kernelspec": {
   "display_name": "Python 3",
   "language": "python",
   "name": "python3"
  },
  "language_info": {
   "codemirror_mode": {
    "name": "ipython",
    "version": 3
   },
   "file_extension": ".py",
   "mimetype": "text/x-python",
   "name": "python",
   "nbconvert_exporter": "python",
   "pygments_lexer": "ipython3",
   "version": "3.8.3"
  }
 },
 "nbformat": 4,
 "nbformat_minor": 4
}
